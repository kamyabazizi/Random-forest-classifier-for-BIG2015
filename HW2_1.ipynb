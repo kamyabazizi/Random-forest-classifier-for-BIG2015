{
  "nbformat": 4,
  "nbformat_minor": 0,
  "metadata": {
    "colab": {
      "name": "HW2_1.ipynb",
      "provenance": [],
      "authorship_tag": "ABX9TyOTsXJyNsxEjRBBc0CFq5tS",
      "include_colab_link": true
    },
    "kernelspec": {
      "name": "python3",
      "display_name": "Python 3"
    },
    "language_info": {
      "name": "python"
    }
  },
  "cells": [
    {
      "cell_type": "markdown",
      "metadata": {
        "id": "view-in-github",
        "colab_type": "text"
      },
      "source": [
        "<a href=\"https://colab.research.google.com/github/kamyabazizi/Random-forest-classifier-for-BIG2015/blob/main/HW2_1.ipynb\" target=\"_parent\"><img src=\"https://colab.research.google.com/assets/colab-badge.svg\" alt=\"Open In Colab\"/></a>"
      ]
    },
    {
      "cell_type": "code",
      "execution_count": null,
      "metadata": {
        "id": "e2HrPh11Ix-y"
      },
      "outputs": [],
      "source": [
        "!sudo apt update"
      ]
    },
    {
      "cell_type": "code",
      "source": [
        "!apt-get install openjdk-8-jdk-headless -qq > /dev/null"
      ],
      "metadata": {
        "id": "Y_yMVJ_aI6Uo"
      },
      "execution_count": 18,
      "outputs": []
    },
    {
      "cell_type": "code",
      "source": [
        "!wget -q https://dlcdn.apache.org/spark/spark-3.2.0/spark-3.2.0-bin-hadoop3.2.tgz"
      ],
      "metadata": {
        "id": "8UOEANWzI9p2"
      },
      "execution_count": 19,
      "outputs": []
    },
    {
      "cell_type": "code",
      "source": [
        "!tar xf /content/spark-3.2.0-bin-hadoop3.2.tgz"
      ],
      "metadata": {
        "id": "TvxEdMBSJA3q"
      },
      "execution_count": 20,
      "outputs": []
    },
    {
      "cell_type": "code",
      "source": [
        "import os\n",
        "os.environ[\"JAVA_HOME\"] = \"/usr/lib/jvm/java-8-openjdk-amd64\"\n",
        "os.environ[\"SPARK_HOME\"] = \"/content/spark-3.2.0-bin-hadoop3.2\""
      ],
      "metadata": {
        "id": "NvQR18NeJDnn"
      },
      "execution_count": 21,
      "outputs": []
    },
    {
      "cell_type": "code",
      "source": [
        "!pip install -q findspark\n",
        "!pip install -q pyspark"
      ],
      "metadata": {
        "colab": {
          "base_uri": "https://localhost:8080/"
        },
        "id": "NLGv8IguJMkS",
        "outputId": "a08cd9a6-8e37-409a-c87e-7a3ca2719a66"
      },
      "execution_count": 22,
      "outputs": [
        {
          "output_type": "stream",
          "name": "stdout",
          "text": [
            "\u001b[K     |████████████████████████████████| 281.3 MB 29 kB/s \n",
            "\u001b[K     |████████████████████████████████| 198 kB 41.7 MB/s \n",
            "\u001b[?25h  Building wheel for pyspark (setup.py) ... \u001b[?25l\u001b[?25hdone\n"
          ]
        }
      ]
    },
    {
      "cell_type": "code",
      "source": [
        "import zipfile\n",
        "from google.colab import drive\n",
        "\n",
        "drive.mount('/content/drive/')\n",
        "\n",
        "zip_ref = zipfile.ZipFile(\"/content/drive/My Drive/Colab Notebooks/ASMdataset/asm_data.zip\", 'r')\n",
        "zip_ref.extractall(\"/content/dataset\")\n",
        "zip_ref.close()"
      ],
      "metadata": {
        "colab": {
          "base_uri": "https://localhost:8080/"
        },
        "id": "zHXjGquOKf69",
        "outputId": "ca27199b-ed36-4c44-a6f9-e20b425cb7b4"
      },
      "execution_count": 10,
      "outputs": [
        {
          "output_type": "stream",
          "name": "stdout",
          "text": [
            "Drive already mounted at /content/drive/; to attempt to forcibly remount, call drive.mount(\"/content/drive/\", force_remount=True).\n"
          ]
        }
      ]
    },
    {
      "cell_type": "code",
      "source": [
        "import fileinput\n",
        "import os\n",
        " \n",
        "# Get the list of all files and directories\n",
        "path = \"/content/dataset/asm_data\"\n",
        "filenames = os.listdir(path)\n",
        "\n",
        "string = \"/content/dataset/asm_data/\"\n",
        "filenames = [string + x  for x in filenames]\n",
        "\n",
        "with open('/content/dataset/Finaltext/result.txt', 'w') as file:\n",
        "    input_lines = fileinput.input(filenames)\n",
        "    file.writelines(input_lines)"
      ],
      "metadata": {
        "id": "qC7vfTD9e25z"
      },
      "execution_count": 16,
      "outputs": []
    },
    {
      "cell_type": "code",
      "source": [
        "from pyspark.sql import SparkSession\n",
        "from pyspark.ml import Pipeline\n",
        "from pyspark.ml.classification import RandomForestClassifier\n",
        "from pyspark.ml.feature import IndexToString, StringIndexer, VectorIndexer\n",
        "from pyspark.ml.evaluation import MulticlassClassificationEvaluator\n",
        "\n",
        "spark = SparkSession.builder.appName(\"Random forest\").getOrCreate()\n",
        "# Load and parse the data file, converting it to a DataFrame.\n",
        "data = spark.read.format(\"text\").load(\"/content/dataset/Finaltext/result.txt\")"
      ],
      "metadata": {
        "id": "-tEwr4qTwWTj"
      },
      "execution_count": 30,
      "outputs": []
    },
    {
      "cell_type": "code",
      "source": [
        "data.show()"
      ],
      "metadata": {
        "colab": {
          "base_uri": "https://localhost:8080/"
        },
        "id": "NuyHshvMJ-d9",
        "outputId": "fb93b78e-4d68-4321-b525-6dc0522e1bd5"
      },
      "execution_count": 31,
      "outputs": [
        {
          "output_type": "stream",
          "name": "stdout",
          "text": [
            "+------------+\n",
            "|       value|\n",
            "+------------+\n",
            "|  .text: mov|\n",
            "|  .text: jmp|\n",
            "|.text: align|\n",
            "| .text: push|\n",
            "|  .text: mov|\n",
            "|  .text: mov|\n",
            "| .text: call|\n",
            "| .text: test|\n",
            "|   .text: jz|\n",
            "| .text: push|\n",
            "| .text: call|\n",
            "|  .text: esp|\n",
            "|  .text: mov|\n",
            "|  .text: pop|\n",
            "| .text: retn|\n",
            "|.text: align|\n",
            "|  .text: xor|\n",
            "| .text: retn|\n",
            "|.text: align|\n",
            "|  .text: mov|\n",
            "+------------+\n",
            "only showing top 20 rows\n",
            "\n"
          ]
        }
      ]
    },
    {
      "cell_type": "code",
      "source": [
        ""
      ],
      "metadata": {
        "id": "4SrowPadKUm4"
      },
      "execution_count": null,
      "outputs": []
    }
  ]
}